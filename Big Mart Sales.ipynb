{
 "cells": [
  {
   "cell_type": "markdown",
   "metadata": {},
   "source": [
    "# Problem Statement and Hypothesis Generation"
   ]
  },
  {
   "cell_type": "markdown",
   "metadata": {},
   "source": [
    "## Problem Statement"
   ]
  },
  {
   "cell_type": "markdown",
   "metadata": {},
   "source": [
    "    a) Properties of products and stores that plays a key role in increasing sales. (Inference)\n",
    "    b) Predict sales of each product at a particular store."
   ]
  },
  {
   "cell_type": "markdown",
   "metadata": {},
   "source": [
    "## Hypothesis"
   ]
  },
  {
   "cell_type": "markdown",
   "metadata": {},
   "source": [
    "Features - \n",
    "    1. Price of product\n",
    "    2. Weight of the product\n",
    "    3. Place of the product in store\n",
    "    4. Visibity of the product\n",
    "    5. Product Type\n",
    "    6. Location of Store\n",
    "    7. Size of Store\n",
    "    8. Year of establishment\n",
    "    9. Product Advertisement\n",
    "    10.Discount\n",
    "    11.Population around location\n",
    "    12.Product Brand\n",
    "    13.Service at the Store\n",
    "    14.Modes of order\n",
    "    15. etc\n",
    "    "
   ]
  },
  {
   "cell_type": "markdown",
   "metadata": {},
   "source": [
    "#### Ho (Null Hypothesis) - None of the above features impact response.\n",
    "#### Ha (Alternate Hypothesis) - Atleast one of the above features impact response."
   ]
  },
  {
   "cell_type": "markdown",
   "metadata": {},
   "source": [
    "# Data Exploration"
   ]
  },
  {
   "cell_type": "code",
   "execution_count": 1,
   "metadata": {},
   "outputs": [],
   "source": [
    "train = read.csv(\"Train.csv\", na.strings=c(\"\",\" \",\"NA\",NA))\n",
    "test = read.csv(\"Test.csv\",na.strings=c(\"\",\" \",\"NA\",NA))"
   ]
  },
  {
   "cell_type": "code",
   "execution_count": 2,
   "metadata": {},
   "outputs": [
    {
     "data": {
      "text/html": [
       "<table>\n",
       "<thead><tr><th scope=col>Item_Identifier</th><th scope=col>Item_Weight</th><th scope=col>Item_Fat_Content</th><th scope=col>Item_Visibility</th><th scope=col>Item_Type</th><th scope=col>Item_MRP</th><th scope=col>Outlet_Identifier</th><th scope=col>Outlet_Establishment_Year</th><th scope=col>Outlet_Size</th><th scope=col>Outlet_Location_Type</th><th scope=col>Outlet_Type</th><th scope=col>Item_Outlet_Sales</th></tr></thead>\n",
       "<tbody>\n",
       "\t<tr><td>FDA15                </td><td> 9.300               </td><td>Low Fat              </td><td>0.01604730           </td><td>Dairy                </td><td>249.8092             </td><td>OUT049               </td><td>1999                 </td><td>Medium               </td><td>Tier 1               </td><td>Supermarket Type1    </td><td>3735.1380            </td></tr>\n",
       "\t<tr><td>DRC01                </td><td> 5.920               </td><td>Regular              </td><td>0.01927822           </td><td>Soft Drinks          </td><td> 48.2692             </td><td>OUT018               </td><td>2009                 </td><td>Medium               </td><td>Tier 3               </td><td>Supermarket Type2    </td><td> 443.4228            </td></tr>\n",
       "\t<tr><td>FDN15                </td><td>17.500               </td><td>Low Fat              </td><td>0.01676007           </td><td>Meat                 </td><td>141.6180             </td><td>OUT049               </td><td>1999                 </td><td>Medium               </td><td>Tier 1               </td><td>Supermarket Type1    </td><td>2097.2700            </td></tr>\n",
       "\t<tr><td>FDX07                </td><td>19.200               </td><td>Regular              </td><td>0.00000000           </td><td>Fruits and Vegetables</td><td>182.0950             </td><td>OUT010               </td><td>1998                 </td><td>NA                   </td><td>Tier 3               </td><td>Grocery Store        </td><td> 732.3800            </td></tr>\n",
       "\t<tr><td>NCD19                </td><td> 8.930               </td><td>Low Fat              </td><td>0.00000000           </td><td>Household            </td><td> 53.8614             </td><td>OUT013               </td><td>1987                 </td><td>High                 </td><td>Tier 3               </td><td>Supermarket Type1    </td><td> 994.7052            </td></tr>\n",
       "\t<tr><td>FDP36                </td><td>10.395               </td><td>Regular              </td><td>0.00000000           </td><td>Baking Goods         </td><td> 51.4008             </td><td>OUT018               </td><td>2009                 </td><td>Medium               </td><td>Tier 3               </td><td>Supermarket Type2    </td><td> 556.6088            </td></tr>\n",
       "\t<tr><td>FDO10                </td><td>13.650               </td><td>Regular              </td><td>0.01274109           </td><td>Snack Foods          </td><td> 57.6588             </td><td>OUT013               </td><td>1987                 </td><td>High                 </td><td>Tier 3               </td><td>Supermarket Type1    </td><td> 343.5528            </td></tr>\n",
       "\t<tr><td>FDP10                </td><td>    NA               </td><td>Low Fat              </td><td>0.12746986           </td><td>Snack Foods          </td><td>107.7622             </td><td>OUT027               </td><td>1985                 </td><td>Medium               </td><td>Tier 3               </td><td>Supermarket Type3    </td><td>4022.7636            </td></tr>\n",
       "\t<tr><td>FDH17                </td><td>16.200               </td><td>Regular              </td><td>0.01668711           </td><td>Frozen Foods         </td><td> 96.9726             </td><td>OUT045               </td><td>2002                 </td><td>NA                   </td><td>Tier 2               </td><td>Supermarket Type1    </td><td>1076.5986            </td></tr>\n",
       "\t<tr><td>FDU28                </td><td>19.200               </td><td>Regular              </td><td>0.09444959           </td><td>Frozen Foods         </td><td>187.8214             </td><td>OUT017               </td><td>2007                 </td><td>NA                   </td><td>Tier 2               </td><td>Supermarket Type1    </td><td>4710.5350            </td></tr>\n",
       "</tbody>\n",
       "</table>\n"
      ],
      "text/latex": [
       "\\begin{tabular}{r|llllllllllll}\n",
       " Item\\_Identifier & Item\\_Weight & Item\\_Fat\\_Content & Item\\_Visibility & Item\\_Type & Item\\_MRP & Outlet\\_Identifier & Outlet\\_Establishment\\_Year & Outlet\\_Size & Outlet\\_Location\\_Type & Outlet\\_Type & Item\\_Outlet\\_Sales\\\\\n",
       "\\hline\n",
       "\t FDA15                 &  9.300                & Low Fat               & 0.01604730            & Dairy                 & 249.8092              & OUT049                & 1999                  & Medium                & Tier 1                & Supermarket Type1     & 3735.1380            \\\\\n",
       "\t DRC01                 &  5.920                & Regular               & 0.01927822            & Soft Drinks           &  48.2692              & OUT018                & 2009                  & Medium                & Tier 3                & Supermarket Type2     &  443.4228            \\\\\n",
       "\t FDN15                 & 17.500                & Low Fat               & 0.01676007            & Meat                  & 141.6180              & OUT049                & 1999                  & Medium                & Tier 1                & Supermarket Type1     & 2097.2700            \\\\\n",
       "\t FDX07                 & 19.200                & Regular               & 0.00000000            & Fruits and Vegetables & 182.0950              & OUT010                & 1998                  & NA                    & Tier 3                & Grocery Store         &  732.3800            \\\\\n",
       "\t NCD19                 &  8.930                & Low Fat               & 0.00000000            & Household             &  53.8614              & OUT013                & 1987                  & High                  & Tier 3                & Supermarket Type1     &  994.7052            \\\\\n",
       "\t FDP36                 & 10.395                & Regular               & 0.00000000            & Baking Goods          &  51.4008              & OUT018                & 2009                  & Medium                & Tier 3                & Supermarket Type2     &  556.6088            \\\\\n",
       "\t FDO10                 & 13.650                & Regular               & 0.01274109            & Snack Foods           &  57.6588              & OUT013                & 1987                  & High                  & Tier 3                & Supermarket Type1     &  343.5528            \\\\\n",
       "\t FDP10                 &     NA                & Low Fat               & 0.12746986            & Snack Foods           & 107.7622              & OUT027                & 1985                  & Medium                & Tier 3                & Supermarket Type3     & 4022.7636            \\\\\n",
       "\t FDH17                 & 16.200                & Regular               & 0.01668711            & Frozen Foods          &  96.9726              & OUT045                & 2002                  & NA                    & Tier 2                & Supermarket Type1     & 1076.5986            \\\\\n",
       "\t FDU28                 & 19.200                & Regular               & 0.09444959            & Frozen Foods          & 187.8214              & OUT017                & 2007                  & NA                    & Tier 2                & Supermarket Type1     & 4710.5350            \\\\\n",
       "\\end{tabular}\n"
      ],
      "text/markdown": [
       "\n",
       "Item_Identifier | Item_Weight | Item_Fat_Content | Item_Visibility | Item_Type | Item_MRP | Outlet_Identifier | Outlet_Establishment_Year | Outlet_Size | Outlet_Location_Type | Outlet_Type | Item_Outlet_Sales | \n",
       "|---|---|---|---|---|---|---|---|---|---|\n",
       "| FDA15                 |  9.300                | Low Fat               | 0.01604730            | Dairy                 | 249.8092              | OUT049                | 1999                  | Medium                | Tier 1                | Supermarket Type1     | 3735.1380             | \n",
       "| DRC01                 |  5.920                | Regular               | 0.01927822            | Soft Drinks           |  48.2692              | OUT018                | 2009                  | Medium                | Tier 3                | Supermarket Type2     |  443.4228             | \n",
       "| FDN15                 | 17.500                | Low Fat               | 0.01676007            | Meat                  | 141.6180              | OUT049                | 1999                  | Medium                | Tier 1                | Supermarket Type1     | 2097.2700             | \n",
       "| FDX07                 | 19.200                | Regular               | 0.00000000            | Fruits and Vegetables | 182.0950              | OUT010                | 1998                  | NA                    | Tier 3                | Grocery Store         |  732.3800             | \n",
       "| NCD19                 |  8.930                | Low Fat               | 0.00000000            | Household             |  53.8614              | OUT013                | 1987                  | High                  | Tier 3                | Supermarket Type1     |  994.7052             | \n",
       "| FDP36                 | 10.395                | Regular               | 0.00000000            | Baking Goods          |  51.4008              | OUT018                | 2009                  | Medium                | Tier 3                | Supermarket Type2     |  556.6088             | \n",
       "| FDO10                 | 13.650                | Regular               | 0.01274109            | Snack Foods           |  57.6588              | OUT013                | 1987                  | High                  | Tier 3                | Supermarket Type1     |  343.5528             | \n",
       "| FDP10                 |     NA                | Low Fat               | 0.12746986            | Snack Foods           | 107.7622              | OUT027                | 1985                  | Medium                | Tier 3                | Supermarket Type3     | 4022.7636             | \n",
       "| FDH17                 | 16.200                | Regular               | 0.01668711            | Frozen Foods          |  96.9726              | OUT045                | 2002                  | NA                    | Tier 2                | Supermarket Type1     | 1076.5986             | \n",
       "| FDU28                 | 19.200                | Regular               | 0.09444959            | Frozen Foods          | 187.8214              | OUT017                | 2007                  | NA                    | Tier 2                | Supermarket Type1     | 4710.5350             | \n",
       "\n",
       "\n"
      ],
      "text/plain": [
       "   Item_Identifier Item_Weight Item_Fat_Content Item_Visibility\n",
       "1  FDA15            9.300      Low Fat          0.01604730     \n",
       "2  DRC01            5.920      Regular          0.01927822     \n",
       "3  FDN15           17.500      Low Fat          0.01676007     \n",
       "4  FDX07           19.200      Regular          0.00000000     \n",
       "5  NCD19            8.930      Low Fat          0.00000000     \n",
       "6  FDP36           10.395      Regular          0.00000000     \n",
       "7  FDO10           13.650      Regular          0.01274109     \n",
       "8  FDP10               NA      Low Fat          0.12746986     \n",
       "9  FDH17           16.200      Regular          0.01668711     \n",
       "10 FDU28           19.200      Regular          0.09444959     \n",
       "   Item_Type             Item_MRP Outlet_Identifier Outlet_Establishment_Year\n",
       "1  Dairy                 249.8092 OUT049            1999                     \n",
       "2  Soft Drinks            48.2692 OUT018            2009                     \n",
       "3  Meat                  141.6180 OUT049            1999                     \n",
       "4  Fruits and Vegetables 182.0950 OUT010            1998                     \n",
       "5  Household              53.8614 OUT013            1987                     \n",
       "6  Baking Goods           51.4008 OUT018            2009                     \n",
       "7  Snack Foods            57.6588 OUT013            1987                     \n",
       "8  Snack Foods           107.7622 OUT027            1985                     \n",
       "9  Frozen Foods           96.9726 OUT045            2002                     \n",
       "10 Frozen Foods          187.8214 OUT017            2007                     \n",
       "   Outlet_Size Outlet_Location_Type Outlet_Type       Item_Outlet_Sales\n",
       "1  Medium      Tier 1               Supermarket Type1 3735.1380        \n",
       "2  Medium      Tier 3               Supermarket Type2  443.4228        \n",
       "3  Medium      Tier 1               Supermarket Type1 2097.2700        \n",
       "4  NA          Tier 3               Grocery Store      732.3800        \n",
       "5  High        Tier 3               Supermarket Type1  994.7052        \n",
       "6  Medium      Tier 3               Supermarket Type2  556.6088        \n",
       "7  High        Tier 3               Supermarket Type1  343.5528        \n",
       "8  Medium      Tier 3               Supermarket Type3 4022.7636        \n",
       "9  NA          Tier 2               Supermarket Type1 1076.5986        \n",
       "10 NA          Tier 2               Supermarket Type1 4710.5350        "
      ]
     },
     "metadata": {},
     "output_type": "display_data"
    }
   ],
   "source": [
    "train[1:10,]"
   ]
  },
  {
   "cell_type": "code",
   "execution_count": null,
   "metadata": {},
   "outputs": [],
   "source": []
  }
 ],
 "metadata": {
  "kernelspec": {
   "display_name": "R",
   "language": "R",
   "name": "ir"
  },
  "language_info": {
   "codemirror_mode": "r",
   "file_extension": ".r",
   "mimetype": "text/x-r-source",
   "name": "R",
   "pygments_lexer": "r",
   "version": "3.2.3"
  }
 },
 "nbformat": 4,
 "nbformat_minor": 2
}
